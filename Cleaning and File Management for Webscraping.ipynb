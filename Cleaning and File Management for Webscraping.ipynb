{
 "cells": [
  {
   "cell_type": "markdown",
   "id": "cc453fde",
   "metadata": {},
   "source": [
    "# Import Libraries"
   ]
  },
  {
   "cell_type": "code",
   "execution_count": null,
   "id": "b1148f02",
   "metadata": {},
   "outputs": [],
   "source": [
    "import numpy as np\n",
    "import pandas as pd"
   ]
  },
  {
   "cell_type": "markdown",
   "id": "a25d2fa9",
   "metadata": {},
   "source": [
    "# Read webscraped recipe topic data"
   ]
  },
  {
   "cell_type": "code",
   "execution_count": null,
   "id": "77847f4e",
   "metadata": {},
   "outputs": [],
   "source": [
    "culturedf = pd.read_csv('full_culture_tastyscrape.csv')\n",
    "dietdf = pd.read_csv('full_diet_tastyscrape.csv')\n",
    "mealdf = pd.read_csv('full_meal_tastyscrape.csv')"
   ]
  },
  {
   "cell_type": "markdown",
   "id": "a98ed858",
   "metadata": {},
   "source": [
    "### Drop duplicates by URL"
   ]
  },
  {
   "cell_type": "code",
   "execution_count": null,
   "id": "8aee5658",
   "metadata": {},
   "outputs": [],
   "source": [
    "dietdf.drop_duplicates(subset=['URL'], inplace=True)"
   ]
  },
  {
   "cell_type": "code",
   "execution_count": null,
   "id": "46f81478",
   "metadata": {},
   "outputs": [],
   "source": [
    "culturedf.drop_duplicates(subset=['URL'], inplace=True)"
   ]
  },
  {
   "cell_type": "code",
   "execution_count": null,
   "id": "15f16364",
   "metadata": {},
   "outputs": [],
   "source": [
    "mealdf.drop_duplicates(subset=['URL'], inplace=True)"
   ]
  },
  {
   "cell_type": "markdown",
   "id": "17c9752b",
   "metadata": {},
   "source": [
    "### Join topic data into one dataframe by URL"
   ]
  },
  {
   "cell_type": "code",
   "execution_count": null,
   "id": "d977e099",
   "metadata": {},
   "outputs": [],
   "source": [
    "topicdf = pd.merge(mealdf, dietdf, on='URL', how='outer')\n",
    "topicdf = pd.merge(topicdf, culturedf, on='URL', how='outer')"
   ]
  },
  {
   "cell_type": "code",
   "execution_count": null,
   "id": "e64e53ea",
   "metadata": {},
   "outputs": [],
   "source": [
    "topicdf['URL'].duplicated().sum()"
   ]
  },
  {
   "cell_type": "code",
   "execution_count": null,
   "id": "382d31f6",
   "metadata": {},
   "outputs": [],
   "source": [
    "urls = topicdf[['URL', 'meal', 'diet', 'culture']]"
   ]
  },
  {
   "cell_type": "code",
   "execution_count": null,
   "id": "d0c40851",
   "metadata": {},
   "outputs": [],
   "source": [
    "urls"
   ]
  },
  {
   "cell_type": "code",
   "execution_count": null,
   "id": "40210cdb",
   "metadata": {},
   "outputs": [],
   "source": [
    "urls.to_csv('recipeurls.csv')"
   ]
  },
  {
   "cell_type": "markdown",
   "id": "6e6c3143",
   "metadata": {},
   "source": [
    "# Drop duplicates of recipes data"
   ]
  },
  {
   "cell_type": "code",
   "execution_count": null,
   "id": "fe5b26be",
   "metadata": {},
   "outputs": [],
   "source": [
    "df = pd.read_csv('tastyrecipes.csv')"
   ]
  },
  {
   "cell_type": "code",
   "execution_count": null,
   "id": "eb2b4fdb",
   "metadata": {},
   "outputs": [],
   "source": [
    "df = df.drop_duplicates()\n",
    "df.reset_index(drop=True, inplace=True)"
   ]
  },
  {
   "cell_type": "code",
   "execution_count": null,
   "id": "b2b595f8",
   "metadata": {},
   "outputs": [],
   "source": [
    "df.to_csv('tastyrecipes.csv')"
   ]
  },
  {
   "cell_type": "markdown",
   "id": "f5b35c1d",
   "metadata": {},
   "source": [
    "# Drop duplicates of ingredients data"
   ]
  },
  {
   "cell_type": "code",
   "execution_count": null,
   "id": "e75312c1",
   "metadata": {},
   "outputs": [],
   "source": [
    "ingdf = pd.read_csv('tastyingredients.csv')"
   ]
  },
  {
   "cell_type": "code",
   "execution_count": null,
   "id": "7ea28871",
   "metadata": {},
   "outputs": [],
   "source": [
    "ingdf[ingdf.duplicated()]"
   ]
  },
  {
   "cell_type": "code",
   "execution_count": null,
   "id": "96452222",
   "metadata": {},
   "outputs": [],
   "source": [
    "len(ingdf['url'].unique())"
   ]
  },
  {
   "cell_type": "code",
   "execution_count": null,
   "id": "07224dbf",
   "metadata": {},
   "outputs": [],
   "source": [
    "uniqueurls = list(ingdf['url'].unique())"
   ]
  },
  {
   "cell_type": "code",
   "execution_count": null,
   "id": "ac43078d",
   "metadata": {},
   "outputs": [],
   "source": [
    "# there are multiple rows with the same url, but have different ingredients (one recipe webpage visited with multiple ingredients)\n",
    "# we only want to remove the duplicates that are repeated entries at different instances when webscraping\n",
    "# ie. remove duplicates by recipe webpages that were revisited\n",
    "\n",
    "urlsused = []\n",
    "dups = []\n",
    "a = ''\n",
    "for i in range(1, ingdf.shape[0]):\n",
    "    if ingdf['url'].iloc[i] not in urlsused:\n",
    "        urlsused.append(ingdf['url'][i])\n",
    "    elif ingdf['url'][i] != ingdf['url'][i-1]:\n",
    "        a = ingdf['url'][i]\n",
    "        dups.append(i)\n",
    "    elif a == ingdf['url'][i]:\n",
    "        dups.append(i)\n",
    "    else:\n",
    "        pass\n",
    "        "
   ]
  },
  {
   "cell_type": "code",
   "execution_count": null,
   "id": "7864dced",
   "metadata": {},
   "outputs": [],
   "source": [
    "len(urlsused)"
   ]
  },
  {
   "cell_type": "code",
   "execution_count": null,
   "id": "65a1eaf8",
   "metadata": {},
   "outputs": [],
   "source": [
    "len(dups)"
   ]
  },
  {
   "cell_type": "code",
   "execution_count": null,
   "id": "0f6c3bc2",
   "metadata": {},
   "outputs": [],
   "source": [
    "cleanings = ingdf.drop(ingdf.index[dups])"
   ]
  },
  {
   "cell_type": "code",
   "execution_count": null,
   "id": "cb4f1751",
   "metadata": {},
   "outputs": [],
   "source": [
    "cleanings.reset_index(drop=True, inplace=True)"
   ]
  },
  {
   "cell_type": "markdown",
   "id": "670685da",
   "metadata": {},
   "source": [
    "### Check that all duplicates are removed"
   ]
  },
  {
   "cell_type": "code",
   "execution_count": null,
   "id": "6dd781f8",
   "metadata": {},
   "outputs": [],
   "source": [
    "urlsused = []\n",
    "dups = []\n",
    "a = ''\n",
    "for i in range(1, cleanings.shape[0]):\n",
    "    if cleanings['url'].iloc[i] not in urlsused:\n",
    "        urlsused.append(cleanings['url'][i])\n",
    "    elif cleanings['url'][i] != cleanings['url'][i-1]:\n",
    "        a = cleanings['url'][i]\n",
    "        dups.append(i)\n",
    "    elif a == cleanings['url'][i]:\n",
    "        dups.append(i)\n",
    "    else:\n",
    "        pass"
   ]
  },
  {
   "cell_type": "code",
   "execution_count": null,
   "id": "18a97b15",
   "metadata": {},
   "outputs": [],
   "source": [
    "len(urlsused)"
   ]
  },
  {
   "cell_type": "code",
   "execution_count": null,
   "id": "11c4f452",
   "metadata": {},
   "outputs": [],
   "source": [
    "len(dups)"
   ]
  },
  {
   "cell_type": "code",
   "execution_count": null,
   "id": "723f8f0b",
   "metadata": {},
   "outputs": [],
   "source": [
    "cleanings"
   ]
  },
  {
   "cell_type": "code",
   "execution_count": null,
   "id": "152b1fa5",
   "metadata": {},
   "outputs": [],
   "source": [
    "cleanings.to_csv('tastyingredients.csv')"
   ]
  },
  {
   "cell_type": "markdown",
   "id": "4de3166c",
   "metadata": {},
   "source": [
    "# Prepare final dataset for SQL\n",
    "\n",
    "The datasets, recipe topics, ingredients and recipes are connected by the URL.\n",
    "Unique URLs that are not found in all 3 csv files must be removed"
   ]
  },
  {
   "cell_type": "code",
   "execution_count": null,
   "id": "18fef9d4",
   "metadata": {},
   "outputs": [],
   "source": [
    "ingred = pd.read_csv('tastyingredients.csv')\n",
    "recipe = pd.read_csv('tastyrecipes.csv')\n",
    "topic = pd.read_csv('tastytopics.csv')"
   ]
  },
  {
   "cell_type": "code",
   "execution_count": null,
   "id": "215aa558",
   "metadata": {},
   "outputs": [],
   "source": [
    "recipe.drop_duplicates(subset=['url'], inplace=True)"
   ]
  },
  {
   "cell_type": "code",
   "execution_count": null,
   "id": "180eefb5",
   "metadata": {},
   "outputs": [],
   "source": [
    "recipe['url'].duplicated().sum()"
   ]
  },
  {
   "cell_type": "code",
   "execution_count": null,
   "id": "adc6f0fe",
   "metadata": {},
   "outputs": [],
   "source": [
    "recipe.dropna(inplace=True)"
   ]
  },
  {
   "cell_type": "code",
   "execution_count": null,
   "id": "90974117",
   "metadata": {},
   "outputs": [],
   "source": [
    "recipe.isnull().sum()"
   ]
  },
  {
   "cell_type": "code",
   "execution_count": null,
   "id": "769ce7b3",
   "metadata": {},
   "outputs": [],
   "source": [
    "recipe.to_csv('tastyrecipes.csv')"
   ]
  },
  {
   "cell_type": "code",
   "execution_count": null,
   "id": "4654d173",
   "metadata": {},
   "outputs": [],
   "source": [
    "dropurls = []\n",
    "for a in ingred['url']:\n",
    "    if a in list(recipe['url']):\n",
    "        pass\n",
    "    else:\n",
    "        dropurls.append(a)"
   ]
  },
  {
   "cell_type": "code",
   "execution_count": null,
   "id": "55dc773a",
   "metadata": {},
   "outputs": [],
   "source": [
    "drop = set(dropurls)"
   ]
  },
  {
   "cell_type": "code",
   "execution_count": null,
   "id": "07cc4c0c",
   "metadata": {},
   "outputs": [],
   "source": [
    "drop"
   ]
  },
  {
   "cell_type": "code",
   "execution_count": null,
   "id": "ec310a4f",
   "metadata": {},
   "outputs": [],
   "source": [
    "for i in drop:\n",
    "    recipe = recipe[recipe['url'] != i]"
   ]
  },
  {
   "cell_type": "code",
   "execution_count": null,
   "id": "e0e5c5f7",
   "metadata": {},
   "outputs": [],
   "source": [
    "for i in drop:\n",
    "    ingred = ingred[ingred['url'] != i]"
   ]
  },
  {
   "cell_type": "code",
   "execution_count": null,
   "id": "c7f9025b",
   "metadata": {},
   "outputs": [],
   "source": [
    "ingred"
   ]
  },
  {
   "cell_type": "code",
   "execution_count": null,
   "id": "f9383ac3",
   "metadata": {},
   "outputs": [],
   "source": [
    "ingred.to_csv('tastyingredients.csv')"
   ]
  },
  {
   "cell_type": "code",
   "execution_count": null,
   "id": "1bfa2861",
   "metadata": {},
   "outputs": [],
   "source": [
    "dropurls = []\n",
    "for a in topic['URL']:\n",
    "    if a in list(recipe['url']):\n",
    "        pass\n",
    "    else:\n",
    "        dropurls.append(a)"
   ]
  },
  {
   "cell_type": "code",
   "execution_count": null,
   "id": "c0d3f0eb",
   "metadata": {},
   "outputs": [],
   "source": [
    "dropurls"
   ]
  },
  {
   "cell_type": "code",
   "execution_count": null,
   "id": "5c12237d",
   "metadata": {},
   "outputs": [],
   "source": [
    "for i in drop:\n",
    "    topic = topic[topic['URL'] != i]"
   ]
  },
  {
   "cell_type": "code",
   "execution_count": null,
   "id": "b71977c7",
   "metadata": {},
   "outputs": [],
   "source": [
    "topic.to_csv('tastytopics.csv')"
   ]
  }
 ],
 "metadata": {
  "kernelspec": {
   "display_name": "Python 3",
   "language": "python",
   "name": "python3"
  },
  "language_info": {
   "codemirror_mode": {
    "name": "ipython",
    "version": 3
   },
   "file_extension": ".py",
   "mimetype": "text/x-python",
   "name": "python",
   "nbconvert_exporter": "python",
   "pygments_lexer": "ipython3",
   "version": "3.8.8"
  }
 },
 "nbformat": 4,
 "nbformat_minor": 5
}
